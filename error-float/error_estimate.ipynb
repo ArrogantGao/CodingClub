{
 "cells": [
  {
   "attachments": {},
   "cell_type": "markdown",
   "metadata": {},
   "source": [
    "# Error in Floating Point System\n",
    "\n",
    "Start from a simple example"
   ]
  },
  {
   "cell_type": "code",
   "execution_count": 26,
   "metadata": {},
   "outputs": [
    {
     "name": "stdout",
     "output_type": "stream",
     "text": [
      "a64 + b64 = 0.21000000000000002\n"
     ]
    }
   ],
   "source": [
    "a64 = 0.01\n",
    "b64 = 0.2\n",
    "@show a64 + b64;"
   ]
  },
  {
   "cell_type": "code",
   "execution_count": 27,
   "metadata": {},
   "outputs": [
    {
     "name": "stdout",
     "output_type": "stream",
     "text": [
      "a32 + b32 = 0.21000001f0\n"
     ]
    }
   ],
   "source": [
    "a32 = Float32(0.01)\n",
    "b32 = Float32(0.2)\n",
    "@show a32 + b32;"
   ]
  },
  {
   "attachments": {},
   "cell_type": "markdown",
   "metadata": {},
   "source": [
    "Here we can see another example"
   ]
  },
  {
   "cell_type": "code",
   "execution_count": 24,
   "metadata": {},
   "outputs": [
    {
     "name": "stdout",
     "output_type": "stream",
     "text": [
      "error natural = 0.00010874912467651043\n",
      "error opposite = 3.0252606197933574e-8\n"
     ]
    }
   ],
   "source": [
    "sum_natural = sum(Float32(Float32(1)/Float32(i)^Float32(2)) for i= 1:10000)\n",
    "sum_opposite = sum(Float32(Float32(1)/Float32(10001 - i)^Float32(2)) for i= 1:10000)\n",
    "sum_exact = sum(1.0/(i^2) for i in 1:10000)\n",
    "println(\"error natural = \", abs(sum_exact - sum_natural))\n",
    "println(\"error opposite = \", abs(sum_exact - sum_opposite))"
   ]
  },
  {
   "cell_type": "code",
   "execution_count": null,
   "metadata": {},
   "outputs": [],
   "source": []
  }
 ],
 "metadata": {
  "kernelspec": {
   "display_name": "Julia 1.9.0",
   "language": "julia",
   "name": "julia-1.9"
  },
  "language_info": {
   "file_extension": ".jl",
   "mimetype": "application/julia",
   "name": "julia",
   "version": "1.9.0"
  },
  "orig_nbformat": 4
 },
 "nbformat": 4,
 "nbformat_minor": 2
}
